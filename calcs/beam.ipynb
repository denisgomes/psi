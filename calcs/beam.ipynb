{
 "cells": [
  {
   "cell_type": "code",
   "execution_count": 33,
   "metadata": {},
   "outputs": [],
   "source": [
    "from sympy import *\n",
    "from pint import UnitRegistry\n",
    "\n",
    "init_printing(use_latex=True)\n",
    "\n",
    "ureg = UnitRegistry()\n",
    "lbs = ureg.lbf\n",
    "inch = ureg.inch"
   ]
  },
  {
   "cell_type": "code",
   "execution_count": 50,
   "metadata": {},
   "outputs": [],
   "source": [
    "E, A, le, Ix, Iy, Iz = symbols(\"E A le Ix Iy Iz\")\n",
    "k = MatrixSymbol('k', 12, 12)"
   ]
  },
  {
   "cell_type": "code",
   "execution_count": 56,
   "metadata": {},
   "outputs": [
    {
     "ename": "TypeError",
     "evalue": "'MatrixSymbol' object does not support item assignment",
     "output_type": "error",
     "traceback": [
      "\u001b[0;31m---------------------------------------------------------------------------\u001b[0m",
      "\u001b[0;31mTypeError\u001b[0m                                 Traceback (most recent call last)",
      "\u001b[0;32m<ipython-input-56-5aab95df6021>\u001b[0m in \u001b[0;36m<module>\u001b[0;34m\u001b[0m\n\u001b[1;32m      1\u001b[0m \u001b[0;31m# setup local element matrix\u001b[0m\u001b[0;34m\u001b[0m\u001b[0;34m\u001b[0m\u001b[0m\n\u001b[1;32m      2\u001b[0m \u001b[0;34m\u001b[0m\u001b[0m\n\u001b[0;32m----> 3\u001b[0;31m \u001b[0mk\u001b[0m\u001b[0;34m[\u001b[0m\u001b[0;36m0\u001b[0m\u001b[0;34m,\u001b[0m \u001b[0;36m0\u001b[0m\u001b[0;34m]\u001b[0m\u001b[0;34m=\u001b[0m \u001b[0mE\u001b[0m\u001b[0;34m*\u001b[0m\u001b[0mA\u001b[0m\u001b[0;34m/\u001b[0m\u001b[0mle\u001b[0m\u001b[0;34m\u001b[0m\u001b[0m\n\u001b[0m\u001b[1;32m      4\u001b[0m \u001b[0mk\u001b[0m\u001b[0;34m[\u001b[0m\u001b[0;36m6\u001b[0m\u001b[0;34m,\u001b[0m \u001b[0;36m0\u001b[0m\u001b[0;34m]\u001b[0m \u001b[0;34m=\u001b[0m \u001b[0;34m-\u001b[0m\u001b[0mk_00\u001b[0m\u001b[0;34m\u001b[0m\u001b[0m\n\u001b[1;32m      5\u001b[0m \u001b[0;34m\u001b[0m\u001b[0m\n",
      "\u001b[0;31mTypeError\u001b[0m: 'MatrixSymbol' object does not support item assignment"
     ]
    }
   ],
   "source": [
    "# setup local element matrix\n",
    "\n",
    "k[0, 0]= E*A/le\n",
    "k[6, 0] = -k_00\n",
    "\n",
    "k[1, 1] = 12*E*Iz/le**3\n",
    "k[7, 1] = -k[]\n",
    "k[5, 1] = 6*E*Iz/le**2\n",
    "k[11, 1] = k_51"
   ]
  },
  {
   "cell_type": "code",
   "execution_count": 55,
   "metadata": {},
   "outputs": [
    {
     "data": {
      "text/latex": [
       "$\\displaystyle \\left[\\begin{array}{cccccccccccc}k_{0, 0} & k_{0, 1} & k_{0, 2} & k_{0, 3} & k_{0, 4} & k_{0, 5} & k_{0, 6} & k_{0, 7} & k_{0, 8} & k_{0, 9} & k_{0, 10} & k_{0, 11}\\\\k_{1, 0} & k_{1, 1} & k_{1, 2} & k_{1, 3} & k_{1, 4} & k_{1, 5} & k_{1, 6} & k_{1, 7} & k_{1, 8} & k_{1, 9} & k_{1, 10} & k_{1, 11}\\\\k_{2, 0} & k_{2, 1} & k_{2, 2} & k_{2, 3} & k_{2, 4} & k_{2, 5} & k_{2, 6} & k_{2, 7} & k_{2, 8} & k_{2, 9} & k_{2, 10} & k_{2, 11}\\\\k_{3, 0} & k_{3, 1} & k_{3, 2} & k_{3, 3} & k_{3, 4} & k_{3, 5} & k_{3, 6} & k_{3, 7} & k_{3, 8} & k_{3, 9} & k_{3, 10} & k_{3, 11}\\\\k_{4, 0} & k_{4, 1} & k_{4, 2} & k_{4, 3} & k_{4, 4} & k_{4, 5} & k_{4, 6} & k_{4, 7} & k_{4, 8} & k_{4, 9} & k_{4, 10} & k_{4, 11}\\\\k_{5, 0} & k_{5, 1} & k_{5, 2} & k_{5, 3} & k_{5, 4} & k_{5, 5} & k_{5, 6} & k_{5, 7} & k_{5, 8} & k_{5, 9} & k_{5, 10} & k_{5, 11}\\\\k_{6, 0} & k_{6, 1} & k_{6, 2} & k_{6, 3} & k_{6, 4} & k_{6, 5} & k_{6, 6} & k_{6, 7} & k_{6, 8} & k_{6, 9} & k_{6, 10} & k_{6, 11}\\\\k_{7, 0} & k_{7, 1} & k_{7, 2} & k_{7, 3} & k_{7, 4} & k_{7, 5} & k_{7, 6} & k_{7, 7} & k_{7, 8} & k_{7, 9} & k_{7, 10} & k_{7, 11}\\\\k_{8, 0} & k_{8, 1} & k_{8, 2} & k_{8, 3} & k_{8, 4} & k_{8, 5} & k_{8, 6} & k_{8, 7} & k_{8, 8} & k_{8, 9} & k_{8, 10} & k_{8, 11}\\\\k_{9, 0} & k_{9, 1} & k_{9, 2} & k_{9, 3} & k_{9, 4} & k_{9, 5} & k_{9, 6} & k_{9, 7} & k_{9, 8} & k_{9, 9} & k_{9, 10} & k_{9, 11}\\\\k_{10, 0} & k_{10, 1} & k_{10, 2} & k_{10, 3} & k_{10, 4} & k_{10, 5} & k_{10, 6} & k_{10, 7} & k_{10, 8} & k_{10, 9} & k_{10, 10} & k_{10, 11}\\\\k_{11, 0} & k_{11, 1} & k_{11, 2} & k_{11, 3} & k_{11, 4} & k_{11, 5} & k_{11, 6} & k_{11, 7} & k_{11, 8} & k_{11, 9} & k_{11, 10} & k_{11, 11}\\end{array}\\right]$"
      ],
      "text/plain": [
       "⎡k₀₀   k₀₁   k₀₂   k₀₃   k₀₄   k₀₅   k₀₆   k₀₇   k₀₈   k₀₉   k₀₁₀   k₀₁₁ ⎤\n",
       "⎢                                                                        ⎥\n",
       "⎢k₁₀   k₁₁   k₁₂   k₁₃   k₁₄   k₁₅   k₁₆   k₁₇   k₁₈   k₁₉   k₁₁₀   k₁₁₁ ⎥\n",
       "⎢                                                                        ⎥\n",
       "⎢k₂₀   k₂₁   k₂₂   k₂₃   k₂₄   k₂₅   k₂₆   k₂₇   k₂₈   k₂₉   k₂₁₀   k₂₁₁ ⎥\n",
       "⎢                                                                        ⎥\n",
       "⎢k₃₀   k₃₁   k₃₂   k₃₃   k₃₄   k₃₅   k₃₆   k₃₇   k₃₈   k₃₉   k₃₁₀   k₃₁₁ ⎥\n",
       "⎢                                                                        ⎥\n",
       "⎢k₄₀   k₄₁   k₄₂   k₄₃   k₄₄   k₄₅   k₄₆   k₄₇   k₄₈   k₄₉   k₄₁₀   k₄₁₁ ⎥\n",
       "⎢                                                                        ⎥\n",
       "⎢k₅₀   k₅₁   k₅₂   k₅₃   k₅₄   k₅₅   k₅₆   k₅₇   k₅₈   k₅₉   k₅₁₀   k₅₁₁ ⎥\n",
       "⎢                                                                        ⎥\n",
       "⎢k₆₀   k₆₁   k₆₂   k₆₃   k₆₄   k₆₅   k₆₆   k₆₇   k₆₈   k₆₉   k₆₁₀   k₆₁₁ ⎥\n",
       "⎢                                                                        ⎥\n",
       "⎢k₇₀   k₇₁   k₇₂   k₇₃   k₇₄   k₇₅   k₇₆   k₇₇   k₇₈   k₇₉   k₇₁₀   k₇₁₁ ⎥\n",
       "⎢                                                                        ⎥\n",
       "⎢k₈₀   k₈₁   k₈₂   k₈₃   k₈₄   k₈₅   k₈₆   k₈₇   k₈₈   k₈₉   k₈₁₀   k₈₁₁ ⎥\n",
       "⎢                                                                        ⎥\n",
       "⎢k₉₀   k₉₁   k₉₂   k₉₃   k₉₄   k₉₅   k₉₆   k₉₇   k₉₈   k₉₉   k₉₁₀   k₉₁₁ ⎥\n",
       "⎢                                                                        ⎥\n",
       "⎢k₁₀₀  k₁₀₁  k₁₀₂  k₁₀₃  k₁₀₄  k₁₀₅  k₁₀₆  k₁₀₇  k₁₀₈  k₁₀₉  k₁₀₁₀  k₁₀₁₁⎥\n",
       "⎢                                                                        ⎥\n",
       "⎣k₁₁₀  k₁₁₁  k₁₁₂  k₁₁₃  k₁₁₄  k₁₁₅  k₁₁₆  k₁₁₇  k₁₁₈  k₁₁₉  k₁₁₁₀  k₁₁₁₁⎦"
      ]
     },
     "execution_count": 55,
     "metadata": {},
     "output_type": "execute_result"
    }
   ],
   "source": [
    "Matrix(k)"
   ]
  },
  {
   "cell_type": "code",
   "execution_count": null,
   "metadata": {},
   "outputs": [],
   "source": []
  }
 ],
 "metadata": {
  "kernelspec": {
   "display_name": "Python 3",
   "language": "python",
   "name": "python3"
  },
  "language_info": {
   "codemirror_mode": {
    "name": "ipython",
    "version": 3
   },
   "file_extension": ".py",
   "mimetype": "text/x-python",
   "name": "python",
   "nbconvert_exporter": "python",
   "pygments_lexer": "ipython3",
   "version": "3.6.3"
  }
 },
 "nbformat": 4,
 "nbformat_minor": 4
}
